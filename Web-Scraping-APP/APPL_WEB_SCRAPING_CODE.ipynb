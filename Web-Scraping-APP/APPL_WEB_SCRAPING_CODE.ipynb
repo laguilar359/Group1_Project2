{
 "cells": [
  {
   "cell_type": "code",
   "execution_count": 3,
   "metadata": {},
   "outputs": [],
   "source": [
    "from splinter import Browser\n",
    "import pandas as pd\n",
    "import numpy as np"
   ]
  },
  {
   "cell_type": "code",
   "execution_count": 4,
   "metadata": {},
   "outputs": [],
   "source": [
    "executable_path = {'executable_path': 'chromedriver'}\n",
    "browser = Browser('chrome', **executable_path, headless=True)"
   ]
  },
  {
   "cell_type": "code",
   "execution_count": 5,
   "metadata": {},
   "outputs": [],
   "source": [
    "d = {'Headline': [], 'Date': []}\n",
    "df = pd.DataFrame(data=d)"
   ]
  },
  {
   "cell_type": "code",
   "execution_count": 17,
   "metadata": {},
   "outputs": [],
   "source": [
    "for x in range(0,500):\n",
    "    url = f\"https://www.marketwatch.com/investing/fund/SPY/moreheadlines?channel=MarketWatch&pageNumber={x}\"\n",
    "    browser.visit(url)\n",
    "    for y in range(0,len(browser.find_by_css('h3[class=\"article__headline\"]'))):\n",
    "        df = df.append({'Headline':browser.find_by_css('h3[class=\"article__headline\"]')[y].text,\n",
    "                        'Date':browser.find_by_css('span[class=\"article__timestamp\"]')[y].text},ignore_index=True)"
   ]
  },
  {
   "cell_type": "code",
   "execution_count": 15,
   "metadata": {},
   "outputs": [
    {
     "data": {
      "text/html": [
       "<div>\n",
       "<style scoped>\n",
       "    .dataframe tbody tr th:only-of-type {\n",
       "        vertical-align: middle;\n",
       "    }\n",
       "\n",
       "    .dataframe tbody tr th {\n",
       "        vertical-align: top;\n",
       "    }\n",
       "\n",
       "    .dataframe thead th {\n",
       "        text-align: right;\n",
       "    }\n",
       "</style>\n",
       "<table border=\"1\" class=\"dataframe\">\n",
       "  <thead>\n",
       "    <tr style=\"text-align: right;\">\n",
       "      <th></th>\n",
       "      <th>Headline</th>\n",
       "      <th>Date</th>\n",
       "    </tr>\n",
       "  </thead>\n",
       "  <tbody>\n",
       "    <tr>\n",
       "      <th>0</th>\n",
       "      <td>Bullish momentum accelerates, S&amp;P 500 extends ...</td>\n",
       "      <td>Nov. 9, 2020 at 11:57 a.m. ET</td>\n",
       "    </tr>\n",
       "    <tr>\n",
       "      <th>1</th>\n",
       "      <td>Charting a bullish November start, S&amp;P 500 ext...</td>\n",
       "      <td>Nov. 6, 2020 at 11:52 a.m. ET</td>\n",
       "    </tr>\n",
       "    <tr>\n",
       "      <th>2</th>\n",
       "      <td>Here’s how to trade a stock market that is swi...</td>\n",
       "      <td>Nov. 5, 2020 at 11:55 a.m. ET</td>\n",
       "    </tr>\n",
       "    <tr>\n",
       "      <th>3</th>\n",
       "      <td>Charting bullish follow-through, S&amp;P 500 knife...</td>\n",
       "      <td>Nov. 5, 2020 at 11:39 a.m. ET</td>\n",
       "    </tr>\n",
       "    <tr>\n",
       "      <th>4</th>\n",
       "      <td>Charting an election-fueled rally, major U.S. ...</td>\n",
       "      <td>Nov. 4, 2020 at 11:57 a.m. ET</td>\n",
       "    </tr>\n",
       "    <tr>\n",
       "      <th>...</th>\n",
       "      <td>...</td>\n",
       "      <td>...</td>\n",
       "    </tr>\n",
       "    <tr>\n",
       "      <th>95</th>\n",
       "      <td>Market rotation persists, small- and mid-caps ...</td>\n",
       "      <td>Jul. 23, 2020 at 12:03 p.m. ET</td>\n",
       "    </tr>\n",
       "    <tr>\n",
       "      <th>96</th>\n",
       "      <td>This index ETF is beating the S&amp;P 500 by exclu...</td>\n",
       "      <td>Jul. 23, 2020 at 9:24 a.m. ET</td>\n",
       "    </tr>\n",
       "    <tr>\n",
       "      <th>97</th>\n",
       "      <td>S&amp;P 500 sustains latest breakout, rises to cha...</td>\n",
       "      <td>Jul. 22, 2020 at 12:05 p.m. ET</td>\n",
       "    </tr>\n",
       "    <tr>\n",
       "      <th>98</th>\n",
       "      <td>Charting a bull-flag breakout, S&amp;P 500 extends...</td>\n",
       "      <td>Jul. 21, 2020 at 12:24 p.m. ET</td>\n",
       "    </tr>\n",
       "    <tr>\n",
       "      <th>99</th>\n",
       "      <td>Charting a bull-flag breakout, S&amp;P 500 extends...</td>\n",
       "      <td>Jul. 21, 2020 at 11:54 a.m. ET</td>\n",
       "    </tr>\n",
       "  </tbody>\n",
       "</table>\n",
       "<p>100 rows × 2 columns</p>\n",
       "</div>"
      ],
      "text/plain": [
       "                                             Headline  \\\n",
       "0   Bullish momentum accelerates, S&P 500 extends ...   \n",
       "1   Charting a bullish November start, S&P 500 ext...   \n",
       "2   Here’s how to trade a stock market that is swi...   \n",
       "3   Charting bullish follow-through, S&P 500 knife...   \n",
       "4   Charting an election-fueled rally, major U.S. ...   \n",
       "..                                                ...   \n",
       "95  Market rotation persists, small- and mid-caps ...   \n",
       "96  This index ETF is beating the S&P 500 by exclu...   \n",
       "97  S&P 500 sustains latest breakout, rises to cha...   \n",
       "98  Charting a bull-flag breakout, S&P 500 extends...   \n",
       "99  Charting a bull-flag breakout, S&P 500 extends...   \n",
       "\n",
       "                              Date  \n",
       "0    Nov. 9, 2020 at 11:57 a.m. ET  \n",
       "1    Nov. 6, 2020 at 11:52 a.m. ET  \n",
       "2    Nov. 5, 2020 at 11:55 a.m. ET  \n",
       "3    Nov. 5, 2020 at 11:39 a.m. ET  \n",
       "4    Nov. 4, 2020 at 11:57 a.m. ET  \n",
       "..                             ...  \n",
       "95  Jul. 23, 2020 at 12:03 p.m. ET  \n",
       "96   Jul. 23, 2020 at 9:24 a.m. ET  \n",
       "97  Jul. 22, 2020 at 12:05 p.m. ET  \n",
       "98  Jul. 21, 2020 at 12:24 p.m. ET  \n",
       "99  Jul. 21, 2020 at 11:54 a.m. ET  \n",
       "\n",
       "[100 rows x 2 columns]"
      ]
     },
     "execution_count": 15,
     "metadata": {},
     "output_type": "execute_result"
    }
   ],
   "source": [
    "print(f\"currently on number {x}\")\n",
    "df"
   ]
  },
  {
   "cell_type": "code",
   "execution_count": 42,
   "metadata": {},
   "outputs": [],
   "source": [
    "SPY_HEADLINES = df.drop_duplicates(subset=['Headline']).reset_index(drop=True)"
   ]
  },
  {
   "cell_type": "code",
   "execution_count": 43,
   "metadata": {},
   "outputs": [],
   "source": [
    "SPY_HEADLINES.to_csv('SPY_HEADLINES.csv',header=True,index=False)"
   ]
  }
 ],
 "metadata": {
  "kernelspec": {
   "display_name": "Python 3",
   "language": "python",
   "name": "python3"
  },
  "language_info": {
   "codemirror_mode": {
    "name": "ipython",
    "version": 3
   },
   "file_extension": ".py",
   "mimetype": "text/x-python",
   "name": "python",
   "nbconvert_exporter": "python",
   "pygments_lexer": "ipython3",
   "version": "3.7.7"
  }
 },
 "nbformat": 4,
 "nbformat_minor": 4
}
