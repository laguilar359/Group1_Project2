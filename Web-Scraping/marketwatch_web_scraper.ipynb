{
 "cells": [
  {
   "cell_type": "code",
   "execution_count": 1,
   "metadata": {},
   "outputs": [],
   "source": [
    "#!pip install bs4\n",
    "#!pip install selenium\n",
    "\n",
    "from selenium import webdriver\n",
    "from selenium.webdriver.common.by import By\n",
    "from selenium.webdriver.support.ui import WebDriverWait\n",
    "from selenium.webdriver.support import expected_conditions as EC\n",
    "from selenium.webdriver.common.action_chains import ActionChains\n",
    "\n",
    "from bs4 import BeautifulSoup\n",
    "import requests\n",
    "import pandas as pd\n",
    "import numpy as np\n",
    "from pathlib import Path"
   ]
  },
  {
   "cell_type": "code",
   "execution_count": null,
   "metadata": {},
   "outputs": [],
   "source": [
    "#create chromedriver variable and link it to the Path wherever the chromedriver is saved on your local drive\n",
    "#add 'r' to beginning of path name to create a raw string\n",
    "chromedriver = (r\"C:\\Users\\14694\\SeleniumDrivers\\chromedriver\")\n",
    "driver = webdriver.Chrome(chromedriver)\n",
    "\n",
    "# this should open new chrome window with url\n",
    "driver.get('https://www.marketwatch.com/investing/stock/AAPL')\n",
    "\n",
    "#wait for test page to load & maximize window\n",
    "wait = WebDriverWait(driver, 5)\n",
    "driver.maximize_window()\n",
    "\n",
    "# initiate ActionChains to close popup window\n",
    "actions = ActionChains(driver)\n",
    "\n",
    "# wait until popup loads\n",
    "status_message=wait.until(\n",
    "    EC.visibility_of_element_located((By.CSS_SELECTOR, \"#cx-notification\")))\n",
    "\n",
    "# click close-btn when popup loads\n",
    "actions.move_to_element(status_message).perform()\n",
    "status_message.find_element_by_css_selector(\"#close-btn\").click"
   ]
  },
  {
   "cell_type": "code",
   "execution_count": null,
   "metadata": {},
   "outputs": [],
   "source": [
    "content = '/html/body/div[4]/div[5]/div[2]/div[1]/mw-tabs/div[2]/div[1]/mw-scrollable-news-v2/div/div/div[1]'\n",
    "\n",
    "headlines = driver.find_elements_by_class_name(content)\n",
    "headlines\n",
    "\n",
    "status_message = wait.until(\n",
    "    EC.visibility_of_element_located((By.CSS_SELECTOR, \"#idCardGroupChangeStatusResult\")))\n",
    "\n",
    "actions.move_to_element(status_message).perform()\n",
    "# here you can get text from message window, check/assert ..\n",
    "status_message.find_element_by_css_selector(\"#close\").click()"
   ]
  },
  {
   "cell_type": "code",
   "execution_count": null,
   "metadata": {},
   "outputs": [],
   "source": [
    "# create list of tickers\n",
    "tickers=['AAPL', 'DOCU', 'SPY']\n",
    "headlines=[]\n",
    "ticker_url=[]\n",
    "url_pattern = 'https://www.marketwatch.com/investing/stock/{}'\n",
    "for t in tickers:\n",
    "    url=url_pattern.format(t)\n",
    "    ticker_url.append(url)\n",
    "    \n",
    "ticker_url"
   ]
  },
  {
   "cell_type": "code",
   "execution_count": null,
   "metadata": {},
   "outputs": [],
   "source": [
    "test_url = \"https://www.marketwatch.com/investing/stock/AAPL\"\n",
    "response = requests.get(test_url)\n",
    "html_data=BeautifulSoup(response.text, 'html.parser')\n",
    "html_data.find_all('h3')"
   ]
  },
  {
   "cell_type": "code",
   "execution_count": null,
   "metadata": {},
   "outputs": [],
   "source": [
    "content = '<div class=\"article__content\">'\n",
    "headline = '/html/body/div[4]/div[5]/div[2]/div[1]/mw-tabs/div[2]/div[1]/mw-scrollable-news-v2/div/div/div[1]/div/h3/a/text()'\n",
    "time = '/html/body/div[4]/div[5]/div[2]/div[1]/mw-tabs/div[2]/div[1]/mw-scrollable-news-v2/div/div/div[1]/div/div/span[1]'            \n",
    "    \n",
    "headlines = driver.find_elements_by_class_name(content)\n",
    "headlines"
   ]
  },
  {
   "cell_type": "code",
   "execution_count": null,
   "metadata": {},
   "outputs": [],
   "source": []
  }
 ],
 "metadata": {
  "kernelspec": {
   "display_name": "Python 3",
   "language": "python",
   "name": "python3"
  },
  "language_info": {
   "codemirror_mode": {
    "name": "ipython",
    "version": 3
   },
   "file_extension": ".py",
   "mimetype": "text/x-python",
   "name": "python",
   "nbconvert_exporter": "python",
   "pygments_lexer": "ipython3",
   "version": "3.7.7"
  }
 },
 "nbformat": 4,
 "nbformat_minor": 4
}
